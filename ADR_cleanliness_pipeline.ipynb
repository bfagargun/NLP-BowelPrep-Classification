{
 "cells": [
  {
   "cell_type": "markdown",
   "metadata": {},
   "source": [
    "# NLP — Bowel Preparation Classification\n",
    "\n",
    "This notebook trains a model on ~1000 manually labeled colonoscopy reports (Turkish free-text),\n",
    "then applies it to the full cohort (>11,000 reports) to classify bowel cleanliness as **Good / Intermediate / Poor**.\n",
    "\n",
    "The pipeline uses TF–IDF + Logistic Regression combined with simple rule-based overrides (segment window +100; if model predicts 'orta' → keep; rules only on the extracted segment)."
   ]
  },
  {
   "cell_type": "code",
   "metadata": {},
   "source": [
    "# === 1) Imports and Config ===\n",
    "import os, unicodedata, joblib\n",
    "import pandas as pd, numpy as np\n",
    "from sklearn.model_selection import StratifiedKFold, cross_val_predict\n",
    "from sklearn.feature_extraction.text import TfidfVectorizer\n",
    "from sklearn.linear_model import LogisticRegression\n",
    "from sklearn.pipeline import Pipeline\n",
    "from sklearn.metrics import classification_report, accuracy_score, precision_recall_fscore_support\n",
    "\n",
    "# ====== PATHS (edit these for your system) ======\n",
    "TRAIN_PATH   = r\"examples/dummy_training.xlsx\"   # ~1000 labeled training file\n",
    "PREDICT_PATH = r\"examples/dummy_training.xlsx\"   # full cohort\n",
    "OUTPUT_MODEL = \"colon_cleanliness_model.pkl\"\n",
    "OUTPUT_FULL  = \"adr.v3.xlsx\"\n",
    "\n",
    "# Column names\n",
    "TRAIN_TEXT_COL   = \"temizlik ifadesi\"\n",
    "TRAIN_LABEL_COL  = \"temizlik sinifi iyi, orta, kötü\"\n",
    "FULL_TEXT_COL    = \"BULGULAR\""
   ]
  },
  {
   "cell_type": "code",
   "metadata": {},
   "source": [
    "# === 2) Helper functions ===\n",
    "def normalize(text):\n",
    "    if not isinstance(text, str):\n",
    "        return ''\n",
    "    return ''.join(c for c in unicodedata.normalize('NFKD', text) if not unicodedata.combining(c)).lower()\n",
    "\n",
    "def extract_segment(text):\n",
    "    norm = normalize(text)\n",
    "    anchors = ['kolon temizligi','kolon temizlig','kolon temizlik','kolon temizli']\n",
    "    idx = -1\n",
    "    for p in anchors:\n",
    "        idx = norm.find(p)\n",
    "        if idx != -1:\n",
    "            break\n",
    "    if idx != -1:\n",
    "        end = norm.find('.', idx)\n",
    "        if end == -1:\n",
    "            end = idx + 100\n",
    "        return norm[idx:end]\n",
    "    return norm[:100]\n",
    "\n",
    "def canon_label(x):\n",
    "    if pd.isna(x): return np.nan\n",
    "    s = str(x).strip().lower()\n",
    "    if 'iyi' in s: return 'iyi'\n",
    "    if 'orta' in s: return 'orta'\n",
    "    if 'kötü' in s or 'kotu' in s: return 'kötü'\n",
    "    return s\n",
    "\n",
    "def classify_with_rules(segment, model_pred):\n",
    "    if model_pred == 'orta':\n",
    "        return 'orta'\n",
    "    if 'yeterli' in segment:\n",
    "        if ('degil' in segment) or ('degildi' in segment) or ('yetersiz' in segment):\n",
    "            return 'kötü'\n",
    "        else:\n",
    "            return 'iyi'\n",
    "    if ('yetersiz' in segment) or ('degil' in segment) or ('degildi' in segment):\n",
    "        return 'kötü'\n",
    "    if ('subopt' in segment) or ('kismen' in segment) or ('kısmen' in segment) or ('yer yer' in segment) or ('yeryer' in segment):\n",
    "        return 'orta'\n",
    "    return model_pred"
   ]
  },
  {
   "cell_type": "code",
   "metadata": {},
   "source": [
    "# === 3) Train model ===\n",
    "train_df = pd.read_excel(TRAIN_PATH)\n",
    "train_df = train_df.dropna(subset=[TRAIN_TEXT_COL, TRAIN_LABEL_COL])\n",
    "X = train_df[TRAIN_TEXT_COL].astype(str).map(normalize)\n",
    "y = train_df[TRAIN_LABEL_COL].map(canon_label)\n",
    "\n",
    "pipe = Pipeline([\n",
    "    (\"tfidf\", TfidfVectorizer(analyzer=\"word\", ngram_range=(1,3), min_df=2, max_df=0.95)),\n",
    "    (\"clf\", LogisticRegression(C=4.0, class_weight=\"balanced\", max_iter=3000, solver=\"lbfgs\", random_state=42))\n",
    "])\n",
    "\n",
    "yhat = cross_val_predict(pipe, X, y, cv=5, method=\"predict\")\n",
    "print(\"=== CV on TRAIN ===\")\n",
    "print(\"Accuracy:\", accuracy_score(y, yhat))\n",
    "print(classification_report(y, yhat, digits=2))\n",
    "\n",
    "pipe.fit(X, y)\n",
    "joblib.dump(pipe, OUTPUT_MODEL)\n",
    "print(\"Model saved to:\", OUTPUT_MODEL)"
   ]
  },
  {
   "cell_type": "code",
   "metadata": {},
   "source": [
    "# === 4) Apply to full cohort ===\n",
    "full_df = pd.read_excel(PREDICT_PATH)\n",
    "segments = full_df[FULL_TEXT_COL].astype(str).map(extract_segment)\n",
    "model_preds = pipe.predict(segments.values)\n",
    "final_preds = [classify_with_rules(seg, mp) for seg, mp in zip(segments, model_preds)]\n",
    "\n",
    "full_df[\"temizlik sinifi tahmin\"] = final_preds\n",
    "print(full_df[\"temizlik sinifi tahmin\"].value_counts())\n",
    "\n",
    "full_df.to_excel(OUTPUT_FULL, index=False)\n",
    "print(\"Predictions saved to:\", OUTPUT_FULL)"
   ]
  }
 ],
 "metadata": {
  "kernelspec": {
   "display_name": "Python 3",
   "language": "python",
   "name": "python3"
  },
  "language_info": {
   "name": "python",
   "version": "3.10"
  }
 },
 "nbformat": 4,
 "nbformat_minor": 5
}